{
 "cells": [
  {
   "cell_type": "code",
   "execution_count": 1,
   "id": "6be825d0",
   "metadata": {},
   "outputs": [
    {
     "name": "stdout",
     "output_type": "stream",
     "text": [
      "Multi-Level Inheritance:\n",
      "Method from class A\n",
      "Method from class B\n",
      "Method from class C\n"
     ]
    }
   ],
   "source": [
    "class A:\n",
    "    def method_a(self):\n",
    "        print(\"Method from class A\")\n",
    "\n",
    "class B(A):\n",
    "    def method_b(self):\n",
    "        print(\"Method from class B\")\n",
    "\n",
    "class C(B):\n",
    "    def method_c(self):\n",
    "        print(\"Method from class C\")\n",
    "\n",
    "# Demonstration\n",
    "print(\"Multi-Level Inheritance:\")\n",
    "obj_c = C()\n",
    "obj_c.method_a()  # Inherited from A via B\n",
    "obj_c.method_b()  # Inherited from B\n",
    "obj_c.method_c()  # Defined in C"
   ]
  },
  {
   "cell_type": "code",
   "execution_count": null,
   "id": "3890e405",
   "metadata": {},
   "outputs": [
    {
     "name": "stdout",
     "output_type": "stream",
     "text": [
      "\n",
      "Hierarchical Inheritance:\n",
      "Method from class A\n",
      "Method from class B\n",
      "Method from class A\n",
      "Method from class C\n"
     ]
    }
   ],
   "source": [
    "class A:\n",
    "    def method_a(self):\n",
    "        print(\"Method from class A\")\n",
    "\n",
    "class B(A):\n",
    "    def method_b(self):\n",
    "        print(\"Method from class B\")\n",
    "\n",
    "class C(A):\n",
    "    def method_c(self):\n",
    "        print(\"Method from class C\")\n",
    "\n",
    "# Demonstration\n",
    "print(\"\\nHierarchical Inheritance:\")\n",
    "obj_b = B()\n",
    "obj_c = C()\n",
    "\n",
    "obj_b.method_a()  # Inherited from A\n",
    "obj_b.method_b()  # Defined in B\n",
    "\n",
    "obj_c.method_a()  # Inherited from A\n",
    "obj_c.method_c()  # Defined in C\n",
    "\n",
    "\n"
   ]
  }
 ],
 "metadata": {
  "kernelspec": {
   "display_name": "mypyenv-3.13",
   "language": "python",
   "name": "python3"
  },
  "language_info": {
   "codemirror_mode": {
    "name": "ipython",
    "version": 3
   },
   "file_extension": ".py",
   "mimetype": "text/x-python",
   "name": "python",
   "nbconvert_exporter": "python",
   "pygments_lexer": "ipython3",
   "version": "3.13.5"
  }
 },
 "nbformat": 4,
 "nbformat_minor": 5
}
