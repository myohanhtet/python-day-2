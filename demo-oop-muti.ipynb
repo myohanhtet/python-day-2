{
 "cells": [
  {
   "cell_type": "code",
   "execution_count": null,
   "id": "6be825d0",
   "metadata": {},
   "outputs": [],
   "source": [
    "class A(): #multi level inheritance\n",
    "\n",
    "class B(A):\n",
    "\n",
    "class C(B):"
   ]
  },
  {
   "cell_type": "code",
   "execution_count": null,
   "id": "3890e405",
   "metadata": {},
   "outputs": [],
   "source": [
    "class A(): #hierarchical inheritance\n",
    "\n",
    "class B(A):\n",
    "\n",
    "class C(A):"
   ]
  }
 ],
 "metadata": {
  "kernelspec": {
   "display_name": "mypyenv-3.13",
   "language": "python",
   "name": "python3"
  },
  "language_info": {
   "name": "python",
   "version": "3.13.5"
  }
 },
 "nbformat": 4,
 "nbformat_minor": 5
}
