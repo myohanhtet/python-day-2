{
 "cells": [
  {
   "cell_type": "code",
   "execution_count": 7,
   "id": "933cc37f",
   "metadata": {},
   "outputs": [
    {
     "name": "stdout",
     "output_type": "stream",
     "text": [
      "<class '__main__.A'>\n",
      "10\n",
      "Value of al.varA is 10\n",
      "Value of varA is 10\n",
      "Value of varA is 20\n"
     ]
    }
   ],
   "source": [
    "class A:\n",
    "    def __init__(self, vA):\n",
    "        self.varA = vA\n",
    "    def printC(self):\n",
    "        print(f\"Value of varA is {self.varA}\")\n",
    "\n",
    "al = A(10)\n",
    "print(type(al))\n",
    "print(al.varA)\n",
    "\n",
    "print(f\"Value of al.varA is {al.varA}\")\n",
    "\n",
    "al.printC()\n",
    "\n",
    "a2 = A(20)\n",
    "a2.printC()"
   ]
  },
  {
   "cell_type": "code",
   "execution_count": 19,
   "id": "5cfeaa63",
   "metadata": {},
   "outputs": [
    {
     "name": "stdout",
     "output_type": "stream",
     "text": [
      "<class '__main__.Person'>\n",
      "John\n",
      "30\n",
      "male\n",
      "Name: John, Age: 30, Gender: male\n",
      "Name: Jane, Age: 25, Gender: male\n"
     ]
    }
   ],
   "source": [
    "class Person:\n",
    "    def __init__(self, name, age, gender):\n",
    "        self.name = name\n",
    "        self.age = age\n",
    "        self.gender = gender\n",
    "    def printPerson(self):\n",
    "        print(f\"Name: {self.name}, Age: {self.age}, Gender: {self.gender}\")\n",
    "    def setName(self, name):\n",
    "        self.name = name\n",
    "    def setAge(self, age):\n",
    "        self.age = age\n",
    "    def setGender(self, gender):\n",
    "        self.gender = gender\n",
    "\n",
    "\n",
    "\n",
    "\n",
    "person1 = Person(\"John\", 30,\"male\")\n",
    "print(type(person1))\n",
    "print(person1.name)\n",
    "print(person1.age)\n",
    "print(person1.gender)\n",
    "\n",
    "person1.printPerson()\n",
    "\n",
    "person1.setName(\"Jane\")\n",
    "person1.setAge(25)\n",
    "person1.printPerson()"
   ]
  }
 ],
 "metadata": {
  "kernelspec": {
   "display_name": "mypyenv-3.13",
   "language": "python",
   "name": "python3"
  },
  "language_info": {
   "codemirror_mode": {
    "name": "ipython",
    "version": 3
   },
   "file_extension": ".py",
   "mimetype": "text/x-python",
   "name": "python",
   "nbconvert_exporter": "python",
   "pygments_lexer": "ipython3",
   "version": "3.13.5"
  }
 },
 "nbformat": 4,
 "nbformat_minor": 5
}
