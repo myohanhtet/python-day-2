{
 "cells": [
  {
   "cell_type": "code",
   "execution_count": 6,
   "id": "e31a669e",
   "metadata": {},
   "outputs": [
    {
     "name": "stdout",
     "output_type": "stream",
     "text": [
      "<class 'list'>\n",
      "<class 'numpy.ndarray'>\n",
      "<class 'numpy.ndarray'>\n",
      "[10 20 30]\n",
      "<class 'numpy.ndarray'>\n",
      "[[10 20 30]\n",
      " [40 50 60]]\n"
     ]
    }
   ],
   "source": [
    "import numpy as np\n",
    "\n",
    "list = [10, 20, 30]\n",
    "\n",
    "print(type(list))\n",
    "\n",
    "ar1 = np.array(list)\n",
    "\n",
    "print(type(ar1))\n",
    "\n",
    "ar2 = np.array([10, 20, 30])\n",
    "print(type(ar2))\n",
    "print(ar2)\n",
    "\n",
    "ar3 = np.array([[10, 20, 30], [40, 50, 60]])\n",
    "print(type(ar3))\n",
    "print(ar3)\n"
   ]
  }
 ],
 "metadata": {
  "kernelspec": {
   "display_name": "mypyenv-3.13",
   "language": "python",
   "name": "python3"
  },
  "language_info": {
   "codemirror_mode": {
    "name": "ipython",
    "version": 3
   },
   "file_extension": ".py",
   "mimetype": "text/x-python",
   "name": "python",
   "nbconvert_exporter": "python",
   "pygments_lexer": "ipython3",
   "version": "3.13.5"
  }
 },
 "nbformat": 4,
 "nbformat_minor": 5
}
