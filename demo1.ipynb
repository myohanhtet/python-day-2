{
 "cells": [
  {
   "cell_type": "code",
   "execution_count": 6,
   "id": "e19d1dae",
   "metadata": {},
   "outputs": [
    {
     "name": "stdout",
     "output_type": "stream",
     "text": [
      "hello wrold\n"
     ]
    }
   ],
   "source": [
    "print(\"hello wrold\")"
   ]
  },
  {
   "cell_type": "code",
   "execution_count": 10,
   "id": "9001f5a5",
   "metadata": {},
   "outputs": [
    {
     "name": "stdout",
     "output_type": "stream",
     "text": [
      "<class 'int'>\n",
      "10\n",
      "Value of x is 10\n"
     ]
    }
   ],
   "source": [
    "x=10\n",
    "print(type(x))\n",
    "print(x)\n",
    "print(f\"Value of x is {x}\")"
   ]
  },
  {
   "cell_type": "code",
   "execution_count": 15,
   "id": "cb2e5ad5",
   "metadata": {},
   "outputs": [
    {
     "name": "stdout",
     "output_type": "stream",
     "text": [
      "<class 'str'>\n",
      "123\n",
      "<class 'int'>\n",
      "123\n"
     ]
    }
   ],
   "source": [
    "y = \"123\"\n",
    "print(type(y))\n",
    "print(y)\n",
    "\n",
    "z = int(y)\n",
    "print(type(z))\n",
    "print(z)"
   ]
  },
  {
   "cell_type": "code",
   "execution_count": 22,
   "id": "d7211596",
   "metadata": {},
   "outputs": [
    {
     "name": "stdout",
     "output_type": "stream",
     "text": [
      "<class 'list'>\n",
      "10\n",
      "22\n",
      "30\n",
      "3\n",
      "[10, 22, 30, 40]\n"
     ]
    }
   ],
   "source": [
    "list1 = [10, 20, 30]\n",
    "\n",
    "list1[1] = 22\n",
    "\n",
    "print(type(list1))\n",
    "for item in list1:\n",
    "    print(item)\n",
    "\n",
    "print(len(list1))\n",
    "\n",
    "list1.append(40)\n",
    "print(list1)"
   ]
  },
  {
   "cell_type": "code",
   "execution_count": null,
   "id": "a7340957",
   "metadata": {},
   "outputs": [
    {
     "name": "stdout",
     "output_type": "stream",
     "text": [
      "<class 'tuple'>\n",
      "(11, 22, 33)\n",
      "22\n",
      "11\n",
      "22\n",
      "33\n",
      "3\n"
     ]
    }
   ],
   "source": [
    "tple1 = (11, 22, 33)\n",
    "\n",
    "print(type(tple1))\n",
    "print(tple1)\n",
    "print(tple1[1])\n",
    "\n",
    "for item in tple1:\n",
    "    print(item)\n",
    "\n",
    "print(len(tple1))"
   ]
  }
 ],
 "metadata": {
  "kernelspec": {
   "display_name": "mypyenv-3.13",
   "language": "python",
   "name": "python3"
  },
  "language_info": {
   "codemirror_mode": {
    "name": "ipython",
    "version": 3
   },
   "file_extension": ".py",
   "mimetype": "text/x-python",
   "name": "python",
   "nbconvert_exporter": "python",
   "pygments_lexer": "ipython3",
   "version": "3.13.5"
  }
 },
 "nbformat": 4,
 "nbformat_minor": 5
}
