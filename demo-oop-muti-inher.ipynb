{
 "cells": [
  {
   "cell_type": "code",
   "execution_count": null,
   "id": "68444c6a",
   "metadata": {},
   "outputs": [
    {
     "name": "stdout",
     "output_type": "stream",
     "text": [
      "10\n"
     ]
    }
   ],
   "source": [
    "class A():\n",
    "    def __init__(self, vA):\n",
    "        self.vA = vA\n",
    "\n",
    "class C():\n",
    "    def __init__(self, vC):\n",
    "        self.vC = vC\n",
    "\n",
    "class B(A, C):\n",
    "    def __init__(self, vA, vB, vC):\n",
    "        A.__init__(self, vA)\n",
    "        C.__init__(self, vC)\n",
    "        self.vB = vB\n",
    "\n",
    "b1 = B(10, 20, 30)\n",
    "print(f\"b1:{b1.vA}, {b1.vB}, {b1.vC}\")"
   ]
  }
 ],
 "metadata": {
  "kernelspec": {
   "display_name": "mypyenv-3.13",
   "language": "python",
   "name": "python3"
  },
  "language_info": {
   "codemirror_mode": {
    "name": "ipython",
    "version": 3
   },
   "file_extension": ".py",
   "mimetype": "text/x-python",
   "name": "python",
   "nbconvert_exporter": "python",
   "pygments_lexer": "ipython3",
   "version": "3.13.5"
  }
 },
 "nbformat": 4,
 "nbformat_minor": 5
}
