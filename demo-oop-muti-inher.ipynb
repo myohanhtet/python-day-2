{
 "cells": [
  {
   "cell_type": "code",
   "execution_count": null,
   "id": "68444c6a",
   "metadata": {},
   "outputs": [],
   "source": [
    "class A():\n",
    "\n",
    "\n",
    "class C():\n",
    "\n",
    "\n",
    "class B(A, C):"
   ]
  }
 ],
 "metadata": {
  "kernelspec": {
   "display_name": "mypyenv-3.13",
   "language": "python",
   "name": "python3"
  },
  "language_info": {
   "name": "python",
   "version": "3.13.5"
  }
 },
 "nbformat": 4,
 "nbformat_minor": 5
}
