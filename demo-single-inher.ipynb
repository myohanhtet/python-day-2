{
 "cells": [
  {
   "cell_type": "code",
   "execution_count": 3,
   "id": "70e30794",
   "metadata": {},
   "outputs": [
    {
     "name": "stdout",
     "output_type": "stream",
     "text": [
      "<class '__main__.A'>\n",
      "<class '__main__.B'>\n",
      "Value of varA is 10\n",
      "Value of varB is 20\n"
     ]
    }
   ],
   "source": [
    "class A():\n",
    "    def __init__(self, vA):\n",
    "        self.varA = vA\n",
    "    def printC(self):\n",
    "        print(f\"Value of varA is {self.varA}\")\n",
    "class B():\n",
    "    def __init__(self, vB):\n",
    "        self.varB = vB\n",
    "    def printC(self):\n",
    "        print(f\"Value of varB is {self.varB}\")\n",
    "\n",
    "a1 = A(10)\n",
    "b1 = B(20)\n",
    "print(type(a1))\n",
    "print(type(b1))\n",
    "\n",
    "a1.printC()\n",
    "b1.printC()\n",
    "\n",
    "# class B(A):\n",
    "#     def __init__(self, vA, vB):\n",
    "#         super().__init__(vA)\n",
    "#         self.varB = vB\n",
    "#     def printC(self):\n",
    "#         super().printC()\n",
    "#         print(f\"Value of varB is {self.varB}\")\n",
    "\n",
    "# a1 = A(10)\n",
    "# b1 = B(20, 30)"
   ]
  }
 ],
 "metadata": {
  "kernelspec": {
   "display_name": "mypyenv-3.13",
   "language": "python",
   "name": "python3"
  },
  "language_info": {
   "codemirror_mode": {
    "name": "ipython",
    "version": 3
   },
   "file_extension": ".py",
   "mimetype": "text/x-python",
   "name": "python",
   "nbconvert_exporter": "python",
   "pygments_lexer": "ipython3",
   "version": "3.13.5"
  }
 },
 "nbformat": 4,
 "nbformat_minor": 5
}
