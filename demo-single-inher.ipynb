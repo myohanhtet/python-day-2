{
 "cells": [
  {
   "cell_type": "code",
   "execution_count": 6,
   "id": "70e30794",
   "metadata": {},
   "outputs": [
    {
     "name": "stdout",
     "output_type": "stream",
     "text": [
      "Calling printC on a1:\n",
      "Value of varA is 10\n",
      "Calling printC on b1:\n",
      "Value of varB is 30\n"
     ]
    }
   ],
   "source": [
    "class A():\n",
    "    def __init__(self, vA):\n",
    "        self.varA = vA\n",
    "    def printC(self):\n",
    "        print(f\"Value of varA is {self.varA}\")\n",
    "\n",
    "    def setA(self, vA):\n",
    "        self.varA = vA\n",
    "    def getA(self):\n",
    "        return self.varA\n",
    "    def __str__(self):\n",
    "        return f\"A(varA={self.varA})\"\n",
    "\n",
    "class B(A):\n",
    "    def __init__(self, vA, vB):\n",
    "        super().__init__(vA)\n",
    "        self.varB = vB\n",
    "    def printC(self):\n",
    "        print(f\"Value of varB is {self.varB}\")\n",
    "\n",
    "    def setB(self, vB):\n",
    "        self.varB = vB\n",
    "    def getB(self):\n",
    "        ret=self.getA()\n",
    "        print(f\"Value of varA in B is {ret}\")\n",
    "        return self.varB\n",
    "    def __str__(self):\n",
    "        return f\"B(varA={self.varA}, varB={self.varB})\"\n",
    "\n",
    "a1 = A(10)\n",
    "b1 = B(20, 30)\n",
    "\n",
    "print(\"Calling printC on a1:\")\n",
    "a1.printC()\n",
    "print(\"Calling printC on b1:\")\n",
    "b1.printC()\n",
    "\n",
    "\n"
   ]
  }
 ],
 "metadata": {
  "kernelspec": {
   "display_name": "mypyenv-3.13",
   "language": "python",
   "name": "python3"
  },
  "language_info": {
   "codemirror_mode": {
    "name": "ipython",
    "version": 3
   },
   "file_extension": ".py",
   "mimetype": "text/x-python",
   "name": "python",
   "nbconvert_exporter": "python",
   "pygments_lexer": "ipython3",
   "version": "3.13.5"
  }
 },
 "nbformat": 4,
 "nbformat_minor": 5
}
